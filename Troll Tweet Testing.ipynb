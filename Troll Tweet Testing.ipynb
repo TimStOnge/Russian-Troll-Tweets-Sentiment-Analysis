{
 "cells": [
  {
   "cell_type": "code",
   "execution_count": 13,
   "metadata": {},
   "outputs": [],
   "source": [
    "# Import Dependencies\n",
    "#pip install vaderSentiment\n",
    "\n",
    "from vaderSentiment.vaderSentiment import SentimentIntensityAnalyzer\n",
    "analyzer = SentimentIntensityAnalyzer()\n",
    "\n",
    "#from vaderSentiment.vaderSentiment import SentimentIntensityAnalyzer\n",
    "# OR\n",
    "#from vaderSentiment import SentimentIntensityAnalyzer\n",
    "\n",
    "import pandas as pd"
   ]
  },
  {
   "cell_type": "code",
   "execution_count": 14,
   "metadata": {},
   "outputs": [],
   "source": [
    "# Create a path to the csv and read it into a Pandas DataFrame\n",
    "csv_path_1 = \"/Users/timst.onge/Desktop/Troll_Data/IRAhandle_tweets_1.csv\"\n",
    "csv_path_2 = \"/Users/timst.onge/Desktop/Troll_Data/IRAhandle_tweets_2.csv\"\n",
    "tweet_df_1 = pd.read_csv(csv_path_1)\n",
    "#tweet_df_2 = pd.read_csv(csv_path_2)\n",
    "\n",
    "#INSTEAD...FOR EACH OF ABOVE\n",
    "# For each CSV in directory, read it into a dataframe\n",
    "# and then zip into larger dataframe\n",
    "# At end, print out the full length to confirm that all tweets are there?\n",
    "#len(tweet_df_1)\n",
    "\n",
    "df_1_content = tweet_df_1[\"content\"]\n",
    "df_1_content.head()\n",
    "\n",
    "compound_list = []\n",
    "positive_list = []\n",
    "negative_list = []\n",
    "neutral_list = []\n",
    "\n",
    "for x in df_1_content:\n",
    "    results = analyzer.polarity_scores(x)\n",
    "    \n",
    "    compound = results[\"compound\"]\n",
    "    pos = results[\"pos\"]\n",
    "    neu = results[\"neu\"]\n",
    "    neg = results[\"neg\"]\n",
    "\n",
    "    # Add each value to the appropriate list\n",
    "    compound_list.append(compound)\n",
    "    positive_list.append(pos)\n",
    "    negative_list.append(neg)\n",
    "    neutral_list.append(neu)\n",
    "    "
   ]
  },
  {
   "cell_type": "code",
   "execution_count": 18,
   "metadata": {},
   "outputs": [
    {
     "data": {
      "text/plain": [
       "[0.0,\n",
       " 0.0,\n",
       " -0.1531,\n",
       " 0.0,\n",
       " 0.6399,\n",
       " 0.4926,\n",
       " 0.0,\n",
       " -0.0191,\n",
       " 0.2263,\n",
       " 0.0,\n",
       " 0.0,\n",
       " -0.0762,\n",
       " -0.34,\n",
       " 0.8689,\n",
       " 0.9186,\n",
       " 0.6654,\n",
       " 0.807,\n",
       " -0.7269,\n",
       " 0.0,\n",
       " -0.5859]"
      ]
     },
     "execution_count": 18,
     "metadata": {},
     "output_type": "execute_result"
    }
   ],
   "source": [
    "compound_list[:20]\n",
    "#len(compound_list)"
   ]
  },
  {
   "cell_type": "code",
   "execution_count": null,
   "metadata": {},
   "outputs": [],
   "source": []
  }
 ],
 "metadata": {
  "kernelspec": {
   "display_name": "Python 3",
   "language": "python",
   "name": "python3"
  },
  "language_info": {
   "codemirror_mode": {
    "name": "ipython",
    "version": 3
   },
   "file_extension": ".py",
   "mimetype": "text/x-python",
   "name": "python",
   "nbconvert_exporter": "python",
   "pygments_lexer": "ipython3",
   "version": "3.7.0"
  }
 },
 "nbformat": 4,
 "nbformat_minor": 2
}
