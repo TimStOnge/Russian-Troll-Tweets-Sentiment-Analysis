{
 "cells": [
  {
   "cell_type": "code",
   "execution_count": 3,
   "metadata": {},
   "outputs": [],
   "source": [
    "# Import Dependencies\n",
    "# !pip install vaderSentiment\n",
    "\n",
    "from vaderSentiment.vaderSentiment import SentimentIntensityAnalyzer\n",
    "analyzer = SentimentIntensityAnalyzer()\n",
    "\n",
    "#from vaderSentiment.vaderSentiment import SentimentIntensityAnalyzer\n",
    "# OR\n",
    "#from vaderSentiment import SentimentIntensityAnalyzer\n",
    "\n",
    "import pandas as pd"
   ]
  },
  {
   "cell_type": "code",
   "execution_count": 7,
   "metadata": {},
   "outputs": [],
   "source": [
    "# Create a path to the csv and read it into a Pandas DataFrame\n",
    "csv_path_1 = \"Datasets/IRAhandle_tweets_1.csv\"\n",
    "# csv_path_2 = \"../Datasets/IRAhandle_tweets_2.csv\"\n",
    "# csv_path_3 = \"../Datasets/IRAhandle_tweets_3.csv\"\n",
    "# csv_path_4 = \"../Datasets/IRAhandle_tweets_4.csv\"\n",
    "# csv_path_5 = \"../Datasets/IRAhandle_tweets_5.csv\"\n",
    "# csv_path_6 = \"../Datasets/IRAhandle_tweets_6.csv\"\n",
    "# csv_path_7 = \"../Datasets/IRAhandle_tweets_7.csv\"\n",
    "# csv_path_8 = \"../Datasets/IRAhandle_tweets_8.csv\"\n",
    "# csv_path_9 = \"../Datasets/IRAhandle_tweets_9.csv\"\n",
    "\n",
    "tweet_df_1 = pd.read_csv(csv_path_1)\n",
    "#tweet_df_2 = pd.read_csv(csv_path_2)\n",
    "\n",
    "# put all 9 CSVs into 1 master csv\n",
    "    #doing this later because the files are so big\n",
    "\n",
    "# drop non-english tweets\n",
    "\n",
    "# analyze positive/negative sentiment from the content column\n",
    "df_1_content = tweet_df_1[\"content\"]\n",
    "df_1_content.head()\n",
    "\n",
    "\n",
    "#make lists for different sentiment to group them together and analyze further\n",
    "compound_list = []\n",
    "positive_list = []\n",
    "negative_list = []\n",
    "neutral_list = []\n",
    "\n",
    "for x in df_1_content:\n",
    "    results = analyzer.polarity_scores(x)\n",
    "    \n",
    "    compound = results[\"compound\"]\n",
    "    pos = results[\"pos\"]\n",
    "    neu = results[\"neu\"]\n",
    "    neg = results[\"neg\"]\n",
    "\n",
    "    # Add each value to the appropriate list\n",
    "    compound_list.append(compound)\n",
    "    positive_list.append(pos)\n",
    "    negative_list.append(neg)\n",
    "    neutral_list.append(neu)\n",
    "    "
   ]
  },
  {
   "cell_type": "code",
   "execution_count": 8,
   "metadata": {},
   "outputs": [
    {
     "data": {
      "text/plain": [
       "[0.0,\n",
       " 0.0,\n",
       " -0.1531,\n",
       " 0.0,\n",
       " 0.6399,\n",
       " 0.4926,\n",
       " 0.0,\n",
       " -0.0191,\n",
       " 0.2263,\n",
       " 0.0,\n",
       " 0.0,\n",
       " -0.0762,\n",
       " -0.34,\n",
       " 0.8689,\n",
       " 0.9186,\n",
       " 0.6654,\n",
       " 0.807,\n",
       " -0.7269,\n",
       " 0.0,\n",
       " -0.5859]"
      ]
     },
     "execution_count": 8,
     "metadata": {},
     "output_type": "execute_result"
    }
   ],
   "source": [
    "compound_list[:20]\n",
    "#len(compound_list)"
   ]
  },
  {
   "cell_type": "code",
   "execution_count": null,
   "metadata": {},
   "outputs": [],
   "source": []
  }
 ],
 "metadata": {
  "kernelspec": {
   "display_name": "Python 3",
   "language": "python",
   "name": "python3"
  }
 },
 "nbformat": 4,
 "nbformat_minor": 2
}
